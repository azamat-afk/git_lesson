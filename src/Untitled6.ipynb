{
 "cells": [
  {
   "cell_type": "code",
   "execution_count": null,
   "metadata": {},
   "outputs": [],
   "source": [
    "    def n_choose_k(n, k):\n",
    "    \"\"\" function to choose k from n \"\"\"\n",
    "    if k == 1:\n",
    "        ans = []\n",
    "        for i in range(n):\n",
    "            tmp = [0] * n\n",
    "            tmp[i] = 1\n",
    "            ans.append(tmp)\n",
    "        return ans\n",
    "    \n",
    "    if k == n:\n",
    "        return [[1] * n]\n",
    "    \n",
    "    ans = []\n",
    "    space = n - k + 1\n",
    "    for i in range(space):\n",
    "        assignment = [0] * (i + 1)\n",
    "        assignment[i] = 1\n",
    "        for c in n_choose_k(n - i - 1, k - 1):\n",
    "            ans.append(assignment + c)\n",
    "    return ans\n",
    "\n",
    "# test: choose 2 from 4\n",
    "print(n_choose_k(4, 2))"
   ]
  },
  {
   "cell_type": "code",
   "execution_count": 8,
   "metadata": {},
   "outputs": [],
   "source": [
    "def n_choose_k(n, k):\n",
    "    \"\"\" function to choose k from n \"\"\"\n",
    "    if k == 1:\n",
    "        ans = []\n",
    "        for i in range(4):\n",
    "            tmp = [0] * n\n",
    "            print(tmp)\n",
    "            #tmp[i] = 1\n",
    "            ans.append(tmp)\n",
    "        return ans"
   ]
  },
  {
   "cell_type": "code",
   "execution_count": 9,
   "metadata": {},
   "outputs": [],
   "source": [
    "n_choose_k(4,2)"
   ]
  },
  {
   "cell_type": "code",
   "execution_count": 11,
   "metadata": {},
   "outputs": [],
   "source": [
    "n=4"
   ]
  },
  {
   "cell_type": "code",
   "execution_count": 16,
   "metadata": {},
   "outputs": [],
   "source": [
    "ans=[]\n",
    "for i in range(4):\n",
    "    tmp=[0]*4\n",
    "    tmp[i]=1\n",
    "    ans.append(tmp)"
   ]
  },
  {
   "cell_type": "code",
   "execution_count": 17,
   "metadata": {},
   "outputs": [
    {
     "data": {
      "text/plain": [
       "[[1, 0, 0, 0], [0, 1, 0, 0], [0, 0, 1, 0], [0, 0, 0, 1]]"
      ]
     },
     "execution_count": 17,
     "metadata": {},
     "output_type": "execute_result"
    }
   ],
   "source": [
    "ans"
   ]
  },
  {
   "cell_type": "code",
   "execution_count": 19,
   "metadata": {},
   "outputs": [
    {
     "ename": "IndentationError",
     "evalue": "unindent does not match any outer indentation level (<tokenize>, line 4)",
     "output_type": "error",
     "traceback": [
      "\u001b[1;36m  File \u001b[1;32m\"<tokenize>\"\u001b[1;36m, line \u001b[1;32m4\u001b[0m\n\u001b[1;33m    ans = []\u001b[0m\n\u001b[1;37m    ^\u001b[0m\n\u001b[1;31mIndentationError\u001b[0m\u001b[1;31m:\u001b[0m unindent does not match any outer indentation level\n"
     ]
    }
   ],
   "source": [
    "if k == n:\n",
    "    return [[1] * n]\n",
    "    \n",
    "    ans = []\n",
    "    space = n - k + 1\n",
    "    for i in range(space):\n",
    "        assignment = [0] * (i + 1)\n",
    "        assignment[i] = 1\n",
    "        for c in n_choose_k(n - i - 1, k - 1):\n",
    "            ans.append(assignment + c)\n",
    "    return ans"
   ]
  },
  {
   "cell_type": "code",
   "execution_count": null,
   "metadata": {},
   "outputs": [],
   "source": []
  }
 ],
 "metadata": {
  "kernelspec": {
   "display_name": "Python 3",
   "language": "python",
   "name": "python3"
  },
  "language_info": {
   "codemirror_mode": {
    "name": "ipython",
    "version": 3
   },
   "file_extension": ".py",
   "mimetype": "text/x-python",
   "name": "python",
   "nbconvert_exporter": "python",
   "pygments_lexer": "ipython3",
   "version": "3.6.9"
  }
 },
 "nbformat": 4,
 "nbformat_minor": 2
}
